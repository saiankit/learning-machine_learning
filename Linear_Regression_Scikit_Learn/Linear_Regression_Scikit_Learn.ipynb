{
 "cells": [
  {
   "cell_type": "markdown",
   "metadata": {},
   "source": [
    "## Implementation of a simple linear regression model using scikit-learn"
   ]
  },
  {
   "cell_type": "markdown",
   "metadata": {},
   "source": [
    "# Loading the data into a Pandas Dataframe\n",
    "\n",
    "Dataset is from Philadelphia, PA and includes average house sales price in a number of neighborhoods.The attributes of each neighborhood we have include the crime rate ('CrimeRate'), miles from Center City ('MilesPhila'), town name ('Name'), county name ('Country')"
   ]
  },
  {
   "cell_type": "code",
   "execution_count": 9,
   "metadata": {},
   "outputs": [],
   "source": [
    "import pandas as pd"
   ]
  },
  {
   "cell_type": "code",
   "execution_count": 10,
   "metadata": {},
   "outputs": [],
   "source": [
    "data = pd.read_csv('data.csv')"
   ]
  },
  {
   "cell_type": "code",
   "execution_count": 11,
   "metadata": {},
   "outputs": [
    {
     "data": {
      "text/html": [
       "<div>\n",
       "<style scoped>\n",
       "    .dataframe tbody tr th:only-of-type {\n",
       "        vertical-align: middle;\n",
       "    }\n",
       "\n",
       "    .dataframe tbody tr th {\n",
       "        vertical-align: top;\n",
       "    }\n",
       "\n",
       "    .dataframe thead th {\n",
       "        text-align: right;\n",
       "    }\n",
       "</style>\n",
       "<table border=\"1\" class=\"dataframe\">\n",
       "  <thead>\n",
       "    <tr style=\"text-align: right;\">\n",
       "      <th></th>\n",
       "      <th>HousePrice</th>\n",
       "      <th>HsPrc ($10,000)</th>\n",
       "      <th>CrimeRate</th>\n",
       "      <th>MilesPhila</th>\n",
       "      <th>PopChg</th>\n",
       "    </tr>\n",
       "  </thead>\n",
       "  <tbody>\n",
       "    <tr>\n",
       "      <th>count</th>\n",
       "      <td>99.000000</td>\n",
       "      <td>99.000000</td>\n",
       "      <td>99.000000</td>\n",
       "      <td>99.000000</td>\n",
       "      <td>98.000000</td>\n",
       "    </tr>\n",
       "    <tr>\n",
       "      <th>mean</th>\n",
       "      <td>157835.606061</td>\n",
       "      <td>15.783561</td>\n",
       "      <td>32.576768</td>\n",
       "      <td>19.282828</td>\n",
       "      <td>2.479592</td>\n",
       "    </tr>\n",
       "    <tr>\n",
       "      <th>std</th>\n",
       "      <td>86644.159973</td>\n",
       "      <td>8.664416</td>\n",
       "      <td>37.540908</td>\n",
       "      <td>9.099552</td>\n",
       "      <td>5.632307</td>\n",
       "    </tr>\n",
       "    <tr>\n",
       "      <th>min</th>\n",
       "      <td>28000.000000</td>\n",
       "      <td>2.800000</td>\n",
       "      <td>6.600000</td>\n",
       "      <td>0.000000</td>\n",
       "      <td>-9.200000</td>\n",
       "    </tr>\n",
       "    <tr>\n",
       "      <th>25%</th>\n",
       "      <td>98505.000000</td>\n",
       "      <td>9.850500</td>\n",
       "      <td>17.400000</td>\n",
       "      <td>13.000000</td>\n",
       "      <td>-0.625000</td>\n",
       "    </tr>\n",
       "    <tr>\n",
       "      <th>50%</th>\n",
       "      <td>140463.000000</td>\n",
       "      <td>14.046300</td>\n",
       "      <td>24.100000</td>\n",
       "      <td>20.000000</td>\n",
       "      <td>1.600000</td>\n",
       "    </tr>\n",
       "    <tr>\n",
       "      <th>75%</th>\n",
       "      <td>195830.000000</td>\n",
       "      <td>19.583000</td>\n",
       "      <td>39.800000</td>\n",
       "      <td>24.500000</td>\n",
       "      <td>4.775000</td>\n",
       "    </tr>\n",
       "    <tr>\n",
       "      <th>max</th>\n",
       "      <td>475112.000000</td>\n",
       "      <td>47.511200</td>\n",
       "      <td>366.100000</td>\n",
       "      <td>50.000000</td>\n",
       "      <td>26.900000</td>\n",
       "    </tr>\n",
       "  </tbody>\n",
       "</table>\n",
       "</div>"
      ],
      "text/plain": [
       "          HousePrice  HsPrc ($10,000)   CrimeRate  MilesPhila     PopChg\n",
       "count      99.000000        99.000000   99.000000   99.000000  98.000000\n",
       "mean   157835.606061        15.783561   32.576768   19.282828   2.479592\n",
       "std     86644.159973         8.664416   37.540908    9.099552   5.632307\n",
       "min     28000.000000         2.800000    6.600000    0.000000  -9.200000\n",
       "25%     98505.000000         9.850500   17.400000   13.000000  -0.625000\n",
       "50%    140463.000000        14.046300   24.100000   20.000000   1.600000\n",
       "75%    195830.000000        19.583000   39.800000   24.500000   4.775000\n",
       "max    475112.000000        47.511200  366.100000   50.000000  26.900000"
      ]
     },
     "execution_count": 11,
     "metadata": {},
     "output_type": "execute_result"
    }
   ],
   "source": [
    "data.describe()"
   ]
  },
  {
   "cell_type": "code",
   "execution_count": 12,
   "metadata": {},
   "outputs": [
    {
     "data": {
      "text/html": [
       "<div>\n",
       "<style scoped>\n",
       "    .dataframe tbody tr th:only-of-type {\n",
       "        vertical-align: middle;\n",
       "    }\n",
       "\n",
       "    .dataframe tbody tr th {\n",
       "        vertical-align: top;\n",
       "    }\n",
       "\n",
       "    .dataframe thead th {\n",
       "        text-align: right;\n",
       "    }\n",
       "</style>\n",
       "<table border=\"1\" class=\"dataframe\">\n",
       "  <thead>\n",
       "    <tr style=\"text-align: right;\">\n",
       "      <th></th>\n",
       "      <th>HousePrice</th>\n",
       "      <th>HsPrc ($10,000)</th>\n",
       "      <th>CrimeRate</th>\n",
       "      <th>MilesPhila</th>\n",
       "      <th>PopChg</th>\n",
       "      <th>Name</th>\n",
       "      <th>County</th>\n",
       "    </tr>\n",
       "  </thead>\n",
       "  <tbody>\n",
       "    <tr>\n",
       "      <th>0</th>\n",
       "      <td>140463</td>\n",
       "      <td>14.0463</td>\n",
       "      <td>29.7</td>\n",
       "      <td>10.0</td>\n",
       "      <td>-1.0</td>\n",
       "      <td>Abington</td>\n",
       "      <td>Montgome</td>\n",
       "    </tr>\n",
       "    <tr>\n",
       "      <th>1</th>\n",
       "      <td>113033</td>\n",
       "      <td>11.3033</td>\n",
       "      <td>24.1</td>\n",
       "      <td>18.0</td>\n",
       "      <td>4.0</td>\n",
       "      <td>Ambler</td>\n",
       "      <td>Montgome</td>\n",
       "    </tr>\n",
       "    <tr>\n",
       "      <th>2</th>\n",
       "      <td>124186</td>\n",
       "      <td>12.4186</td>\n",
       "      <td>19.5</td>\n",
       "      <td>25.0</td>\n",
       "      <td>8.0</td>\n",
       "      <td>Aston</td>\n",
       "      <td>Delaware</td>\n",
       "    </tr>\n",
       "    <tr>\n",
       "      <th>3</th>\n",
       "      <td>110490</td>\n",
       "      <td>11.0490</td>\n",
       "      <td>49.4</td>\n",
       "      <td>25.0</td>\n",
       "      <td>2.7</td>\n",
       "      <td>Bensalem</td>\n",
       "      <td>Bucks</td>\n",
       "    </tr>\n",
       "    <tr>\n",
       "      <th>4</th>\n",
       "      <td>79124</td>\n",
       "      <td>7.9124</td>\n",
       "      <td>54.1</td>\n",
       "      <td>19.0</td>\n",
       "      <td>3.9</td>\n",
       "      <td>Bristol B.</td>\n",
       "      <td>Bucks</td>\n",
       "    </tr>\n",
       "  </tbody>\n",
       "</table>\n",
       "</div>"
      ],
      "text/plain": [
       "   HousePrice  HsPrc ($10,000)  CrimeRate  MilesPhila  PopChg        Name  \\\n",
       "0      140463          14.0463       29.7        10.0    -1.0    Abington   \n",
       "1      113033          11.3033       24.1        18.0     4.0      Ambler   \n",
       "2      124186          12.4186       19.5        25.0     8.0       Aston   \n",
       "3      110490          11.0490       49.4        25.0     2.7    Bensalem   \n",
       "4       79124           7.9124       54.1        19.0     3.9  Bristol B.   \n",
       "\n",
       "     County  \n",
       "0  Montgome  \n",
       "1  Montgome  \n",
       "2  Delaware  \n",
       "3     Bucks  \n",
       "4     Bucks  "
      ]
     },
     "execution_count": 12,
     "metadata": {},
     "output_type": "execute_result"
    }
   ],
   "source": [
    "data.head()"
   ]
  },
  {
   "cell_type": "markdown",
   "metadata": {},
   "source": [
    "# Plotting the graph between CrimeRate and HousePrice"
   ]
  },
  {
   "cell_type": "code",
   "execution_count": 13,
   "metadata": {},
   "outputs": [],
   "source": [
    "import hvplot.pandas"
   ]
  },
  {
   "cell_type": "code",
   "execution_count": 14,
   "metadata": {},
   "outputs": [
    {
     "data": {},
     "metadata": {},
     "output_type": "display_data"
    },
    {
     "data": {
      "application/vnd.holoviews_exec.v0+json": "",
      "text/html": [
       "<div id='1098'>\n",
       "\n",
       "\n",
       "\n",
       "\n",
       "\n",
       "  <div class=\"bk-root\" id=\"f619a6e1-1f1c-4d5c-b4d7-2116589cce00\" data-root-id=\"1098\"></div>\n",
       "</div>\n",
       "<script type=\"application/javascript\">(function(root) {\n",
       "  function embed_document(root) {\n",
       "  var docs_json = {\"84f28d19-904e-49e3-95c3-cf1c86831076\":{\"roots\":{\"references\":[{\"attributes\":{\"source\":{\"id\":\"1133\"}},\"id\":\"1140\",\"type\":\"CDSView\"},{\"attributes\":{\"fill_alpha\":{\"value\":0.1},\"fill_color\":{\"value\":\"#1f77b3\"},\"line_alpha\":{\"value\":0.1},\"line_color\":{\"value\":\"#1f77b3\"},\"size\":{\"units\":\"screen\",\"value\":5.477225575051661},\"x\":{\"field\":\"CrimeRate\"},\"y\":{\"field\":\"HousePrice\"}},\"id\":\"1137\",\"type\":\"Scatter\"},{\"attributes\":{\"bottom_units\":\"screen\",\"fill_alpha\":0.5,\"fill_color\":\"lightgrey\",\"left_units\":\"screen\",\"level\":\"overlay\",\"line_alpha\":1.0,\"line_color\":\"black\",\"line_dash\":[4,4],\"line_width\":2,\"render_mode\":\"css\",\"right_units\":\"screen\",\"top_units\":\"screen\"},\"id\":\"1125\",\"type\":\"BoxAnnotation\"},{\"attributes\":{},\"id\":\"1108\",\"type\":\"LinearScale\"},{\"attributes\":{\"end\":381.50714285714287,\"reset_end\":381.50714285714287,\"reset_start\":-8.807142857142857,\"start\":-8.807142857142857,\"tags\":[[[\"CrimeRate\",\"CrimeRate\",null]]]},\"id\":\"1100\",\"type\":\"Range1d\"},{\"attributes\":{\"callback\":null,\"renderers\":[{\"id\":\"1139\"}],\"tags\":[\"hv_created\"],\"tooltips\":[[\"CrimeRate\",\"@{CrimeRate}\"],[\"HousePrice\",\"@{HousePrice}\"]]},\"id\":\"1102\",\"type\":\"HoverTool\"},{\"attributes\":{\"fill_alpha\":{\"value\":0.2},\"fill_color\":{\"value\":\"#1f77b3\"},\"line_alpha\":{\"value\":0.2},\"line_color\":{\"value\":\"#1f77b3\"},\"size\":{\"units\":\"screen\",\"value\":5.477225575051661},\"x\":{\"field\":\"CrimeRate\"},\"y\":{\"field\":\"HousePrice\"}},\"id\":\"1138\",\"type\":\"Scatter\"},{\"attributes\":{\"axis\":{\"id\":\"1116\"},\"dimension\":1,\"grid_line_color\":null,\"ticker\":null},\"id\":\"1119\",\"type\":\"Grid\"},{\"attributes\":{},\"id\":\"1110\",\"type\":\"LinearScale\"},{\"attributes\":{\"end\":519823.2,\"reset_end\":519823.2,\"reset_start\":-16711.200000000004,\"start\":-16711.200000000004,\"tags\":[[[\"HousePrice\",\"HousePrice\",null]]]},\"id\":\"1101\",\"type\":\"Range1d\"},{\"attributes\":{\"align\":null,\"below\":[{\"id\":\"1112\"}],\"center\":[{\"id\":\"1115\"},{\"id\":\"1119\"}],\"left\":[{\"id\":\"1116\"}],\"margin\":null,\"min_border_bottom\":10,\"min_border_left\":10,\"min_border_right\":10,\"min_border_top\":10,\"plot_height\":300,\"plot_width\":700,\"renderers\":[{\"id\":\"1139\"}],\"sizing_mode\":\"fixed\",\"title\":{\"id\":\"1104\"},\"toolbar\":{\"id\":\"1126\"},\"x_range\":{\"id\":\"1100\"},\"x_scale\":{\"id\":\"1108\"},\"y_range\":{\"id\":\"1101\"},\"y_scale\":{\"id\":\"1110\"}},\"id\":\"1103\",\"subtype\":\"Figure\",\"type\":\"Plot\"},{\"attributes\":{\"axis_label\":\"CrimeRate\",\"bounds\":\"auto\",\"formatter\":{\"id\":\"1141\"},\"major_label_orientation\":\"horizontal\",\"ticker\":{\"id\":\"1113\"}},\"id\":\"1112\",\"type\":\"LinearAxis\"},{\"attributes\":{},\"id\":\"1113\",\"type\":\"BasicTicker\"},{\"attributes\":{},\"id\":\"1143\",\"type\":\"BasicTickFormatter\"},{\"attributes\":{\"data\":{\"CrimeRate\":{\"__ndarray__\":\"MzMzMzOzPUCamZmZmRk4QAAAAAAAgDNAMzMzMzOzSEDNzMzMzAxLQM3MzMzMTEhAzczMzMzMPkCamZmZmZklQDMzMzMzMzRAZmZmZmZmNEDNzMzMzEwxQGZmZmZmJklAmpmZmZkZQUCamZmZmdlAQJqZmZmZ2UZAzczMzMxMNkDNzMzMzAxIQGZmZmZmZjNAmpmZmZn5UUDNzMzMzIxGQM3MzMzMTD9AZmZmZmbmOEAzMzMzMzM7QDMzMzMzszFAAAAAAAAAPUBmZmZmZmY1QJqZmZmZmTxAzczMzMxMPUAAAAAAAIAxQAAAAAAAgDBAzczMzMzMMUDNzMzMzEwxQDMzMzMzMz9AAAAAAAAALUBmZmZmZmYvQJqZmZmZmTxAzczMzMzMNEDNzMzMzEw9QM3MzMzMTDNAAAAAAADAQ0AAAAAAAAAqQJqZmZmZGThAAAAAAAAAQ0DNzMzMzAxEQM3MzMzMDEJAmpmZmZmZOkCamZmZmRk5QDMzMzMzMy1AMzMzMzMzMkCamZmZmZkuQGZmZmZmZi5AZmZmZmZmMUAzMzMzM1NSQGZmZmZmZhxAAAAAAAAAKUBmZmZmZuZGQDMzMzMzc0ZAAAAAAABAUEAzMzMzM/NIQGZmZmZmZktAAAAAAADASkCamZmZmXlRQJqZmZmZ4XZAmpmZmZmZOEDNzMzMzExNQJqZmZmZmUpAZmZmZmZmMUAAAAAAAAAvQAAAAAAAAC1AmpmZmZkZOEAzMzMzMzM1QJqZmZmZmSNAZmZmZmbmPUDNzMzMzMwcQGZmZmZmZjNAzczMzMyMREBmZmZmZmYmQDMzMzMzMzVAZmZmZmZmRUDNzMzMzMwiQJqZmZmZ2U5AZmZmZmZmM0BmZmZmZmYaQM3MzMzMzC9AzczMzMzMMkBmZmZmZmYqQAAAAAAAQEFAmpmZmZkZNkCamZmZmRk2QJqZmZmZ+VFAZmZmZmbmP0DNzMzMzExGQJqZmZmZmTxAAAAAAAAAOECamZmZmZkrQGZmZmZm5j1AzczMzMzMI0CamZmZmZk2QAAAAAAAACpA\",\"dtype\":\"float64\",\"shape\":[99]},\"HousePrice\":[140463,113033,124186,110490,79124,92634,89246,195145,297342,264298,134342,147600,77370,170822,40642,71359,104923,190317,215512,178105,131025,149844,170556,280969,114233,74502,475112,97167,114572,436348,389302,122392,130436,272790,194435,299621,210884,112471,93738,121024,156035,185404,126160,143072,96769,94014,118214,157446,150283,153842,197214,206127,71981,169401,99843,60000,28000,60000,61800,38000,38000,42000,96200,103087,147720,78175,92215,271804,119566,100231,95831,229711,74308,259506,159573,147176,205732,215783,116710,359112,189959,133198,242821,142811,200498,199065,93648,163001,436348,124478,168276,114157,130088,152624,174232,196515,232714,245920,130953]},\"selected\":{\"id\":\"1134\"},\"selection_policy\":{\"id\":\"1152\"}},\"id\":\"1133\",\"type\":\"ColumnDataSource\"},{\"attributes\":{\"axis\":{\"id\":\"1112\"},\"grid_line_color\":null,\"ticker\":null},\"id\":\"1115\",\"type\":\"Grid\"},{\"attributes\":{},\"id\":\"1117\",\"type\":\"BasicTicker\"},{\"attributes\":{\"axis_label\":\"HousePrice\",\"bounds\":\"auto\",\"formatter\":{\"id\":\"1143\"},\"major_label_orientation\":\"horizontal\",\"ticker\":{\"id\":\"1117\"}},\"id\":\"1116\",\"type\":\"LinearAxis\"},{\"attributes\":{\"overlay\":{\"id\":\"1125\"}},\"id\":\"1123\",\"type\":\"BoxZoomTool\"},{\"attributes\":{\"data_source\":{\"id\":\"1133\"},\"glyph\":{\"id\":\"1136\"},\"hover_glyph\":null,\"muted_glyph\":{\"id\":\"1138\"},\"nonselection_glyph\":{\"id\":\"1137\"},\"selection_glyph\":null,\"view\":{\"id\":\"1140\"}},\"id\":\"1139\",\"type\":\"GlyphRenderer\"},{\"attributes\":{},\"id\":\"1141\",\"type\":\"BasicTickFormatter\"},{\"attributes\":{\"children\":[{\"id\":\"1099\"},{\"id\":\"1103\"},{\"id\":\"1153\"}],\"margin\":[0,0,0,0],\"name\":\"Row01668\",\"tags\":[\"embedded\"]},\"id\":\"1098\",\"type\":\"Row\"},{\"attributes\":{},\"id\":\"1134\",\"type\":\"Selection\"},{\"attributes\":{\"text\":\"\",\"text_color\":{\"value\":\"black\"},\"text_font_size\":{\"value\":\"12pt\"}},\"id\":\"1104\",\"type\":\"Title\"},{\"attributes\":{\"margin\":[5,5,5,5],\"name\":\"HSpacer01672\",\"sizing_mode\":\"stretch_width\"},\"id\":\"1099\",\"type\":\"Spacer\"},{\"attributes\":{\"margin\":[5,5,5,5],\"name\":\"HSpacer01673\",\"sizing_mode\":\"stretch_width\"},\"id\":\"1153\",\"type\":\"Spacer\"},{\"attributes\":{\"active_drag\":\"auto\",\"active_inspect\":\"auto\",\"active_multi\":null,\"active_scroll\":\"auto\",\"active_tap\":\"auto\",\"tools\":[{\"id\":\"1102\"},{\"id\":\"1120\"},{\"id\":\"1121\"},{\"id\":\"1122\"},{\"id\":\"1123\"},{\"id\":\"1124\"}]},\"id\":\"1126\",\"type\":\"Toolbar\"},{\"attributes\":{\"fill_color\":{\"value\":\"#1f77b3\"},\"line_color\":{\"value\":\"#1f77b3\"},\"size\":{\"units\":\"screen\",\"value\":5.477225575051661},\"x\":{\"field\":\"CrimeRate\"},\"y\":{\"field\":\"HousePrice\"}},\"id\":\"1136\",\"type\":\"Scatter\"},{\"attributes\":{},\"id\":\"1152\",\"type\":\"UnionRenderers\"},{\"attributes\":{},\"id\":\"1120\",\"type\":\"SaveTool\"},{\"attributes\":{},\"id\":\"1124\",\"type\":\"ResetTool\"},{\"attributes\":{},\"id\":\"1121\",\"type\":\"PanTool\"},{\"attributes\":{},\"id\":\"1122\",\"type\":\"WheelZoomTool\"}],\"root_ids\":[\"1098\"]},\"title\":\"Bokeh Application\",\"version\":\"2.0.2\"}};\n",
       "  var render_items = [{\"docid\":\"84f28d19-904e-49e3-95c3-cf1c86831076\",\"root_ids\":[\"1098\"],\"roots\":{\"1098\":\"f619a6e1-1f1c-4d5c-b4d7-2116589cce00\"}}];\n",
       "  root.Bokeh.embed.embed_items_notebook(docs_json, render_items);\n",
       "  }\n",
       "if (root.Bokeh !== undefined) {\n",
       "    embed_document(root);\n",
       "  } else {\n",
       "    var attempts = 0;\n",
       "    var timer = setInterval(function(root) {\n",
       "      if (root.Bokeh !== undefined) {\n",
       "        clearInterval(timer);\n",
       "        embed_document(root);\n",
       "      } else if (document.readyState == \"complete\") {\n",
       "        attempts++;\n",
       "        if (attempts > 100) {\n",
       "          clearInterval(timer);\n",
       "          console.log(\"Bokeh: ERROR: Unable to run BokehJS code because BokehJS library is missing\");\n",
       "        }\n",
       "      }\n",
       "    }, 10, root)\n",
       "  }\n",
       "})(window);</script>"
      ],
      "text/plain": [
       ":Scatter   [CrimeRate]   (HousePrice)"
      ]
     },
     "execution_count": 14,
     "metadata": {
      "application/vnd.holoviews_exec.v0+json": {
       "id": "1098"
      }
     },
     "output_type": "execute_result"
    }
   ],
   "source": [
    "data.hvplot(x = 'CrimeRate' , y = 'HousePrice' , kind = 'scatter')"
   ]
  },
  {
   "cell_type": "markdown",
   "metadata": {},
   "source": [
    "### We observe that there is a data point with CrimeRate = 366.100 and observe the effect of this datapoint in the linear regression model\n",
    "### Let us generate two different linear regression models and observe the change due to high-leverage points"
   ]
  },
  {
   "cell_type": "markdown",
   "metadata": {},
   "source": [
    "# Fit the simple regression model using CrimeRate as the feature"
   ]
  },
  {
   "cell_type": "code",
   "execution_count": 15,
   "metadata": {},
   "outputs": [],
   "source": [
    "from sklearn.model_selection import train_test_split\n",
    "from sklearn import datasets, linear_model\n",
    "from sklearn.metrics import mean_squared_error, r2_score\n",
    "from sklearn import preprocessing, svm \n",
    "from sklearn.linear_model import LinearRegression "
   ]
  },
  {
   "cell_type": "code",
   "execution_count": 16,
   "metadata": {},
   "outputs": [],
   "source": [
    "reg = LinearRegression()"
   ]
  },
  {
   "cell_type": "code",
   "execution_count": 18,
   "metadata": {},
   "outputs": [],
   "source": [
    "x = data[['CrimeRate']]\n",
    "y = data['HousePrice']"
   ]
  },
  {
   "cell_type": "code",
   "execution_count": 19,
   "metadata": {},
   "outputs": [
    {
     "data": {
      "text/plain": [
       "LinearRegression(copy_X=True, fit_intercept=True, n_jobs=None, normalize=False)"
      ]
     },
     "execution_count": 19,
     "metadata": {},
     "output_type": "execute_result"
    }
   ],
   "source": [
    "reg.fit(x,y)"
   ]
  },
  {
   "cell_type": "markdown",
   "metadata": {},
   "source": [
    "# Let's see what our fit looks like"
   ]
  },
  {
   "cell_type": "code",
   "execution_count": 20,
   "metadata": {},
   "outputs": [],
   "source": [
    "import matplotlib.pyplot as plt\n",
    "%matplotlib inline"
   ]
  },
  {
   "cell_type": "code",
   "execution_count": 21,
   "metadata": {},
   "outputs": [
    {
     "data": {
      "text/plain": [
       "[<matplotlib.lines.Line2D at 0x12ba5c8d0>]"
      ]
     },
     "execution_count": 21,
     "metadata": {},
     "output_type": "execute_result"
    },
    {
     "data": {
      "image/png": "[encoded data removed]",
      "text/plain": [
       "<Figure size 432x288 with 1 Axes>"
      ]
     },
     "metadata": {
      "needs_background": "light"
     },
     "output_type": "display_data"
    }
   ],
   "source": [
    "plt.scatter(x,y,color='green')\n",
    "plt.plot(x,reg.predict(x) , color = 'k')"
   ]
  },
  {
   "cell_type": "markdown",
   "metadata": {},
   "source": [
    "Center City with CrimeRate = 366.100 is the one observation with an extremely high crime rate, yet house prices are not very low.  This point does not follow the trend of the rest of the data very well.  A question is how much including Center City is influencing our fit on the other datapoints.  Let's remove this datapoint and see what happens."
   ]
  },
  {
   "cell_type": "markdown",
   "metadata": {},
   "source": [
    "# Remove Center City ( CrimeRate = 366.100 ) and redo the analysis"
   ]
  },
  {
   "cell_type": "code",
   "execution_count": 22,
   "metadata": {},
   "outputs": [],
   "source": [
    "newdata = data\n",
    "newdata.drop(newdata[newdata.CrimeRate>336].index , inplace = True)"
   ]
  },
  {
   "cell_type": "code",
   "execution_count": 24,
   "metadata": {},
   "outputs": [
    {
     "data": {},
     "metadata": {},
     "output_type": "display_data"
    },
    {
     "data": {
      "application/vnd.holoviews_exec.v0+json": "",
      "text/html": [
       "<div id='1195'>\n",
       "\n",
       "\n",
       "\n",
       "\n",
       "\n",
       "  <div class=\"bk-root\" id=\"0386a6e4-8bb8-4cd2-9d54-7d6da56ef6a7\" data-root-id=\"1195\"></div>\n",
       "</div>\n",
       "<script type=\"application/javascript\">(function(root) {\n",
       "  function embed_document(root) {\n",
       "  var docs_json = {\"961cb8f4-5ece-4431-a088-f5a670261766\":{\"roots\":{\"references\":[{\"attributes\":{\"source\":{\"id\":\"1230\"}},\"id\":\"1237\",\"type\":\"CDSView\"},{\"attributes\":{},\"id\":\"1249\",\"type\":\"UnionRenderers\"},{\"attributes\":{\"text\":\"\",\"text_color\":{\"value\":\"black\"},\"text_font_size\":{\"value\":\"12pt\"}},\"id\":\"1201\",\"type\":\"Title\"},{\"attributes\":{\"overlay\":{\"id\":\"1222\"}},\"id\":\"1220\",\"type\":\"BoxZoomTool\"},{\"attributes\":{\"data_source\":{\"id\":\"1230\"},\"glyph\":{\"id\":\"1233\"},\"hover_glyph\":null,\"muted_glyph\":{\"id\":\"1235\"},\"nonselection_glyph\":{\"id\":\"1234\"},\"selection_glyph\":null,\"view\":{\"id\":\"1237\"}},\"id\":\"1236\",\"type\":\"GlyphRenderer\"},{\"attributes\":{},\"id\":\"1221\",\"type\":\"ResetTool\"},{\"attributes\":{\"fill_alpha\":{\"value\":0.1},\"fill_color\":{\"value\":\"#1f77b3\"},\"line_alpha\":{\"value\":0.1},\"line_color\":{\"value\":\"#1f77b3\"},\"size\":{\"units\":\"screen\",\"value\":5.477225575051661},\"x\":{\"field\":\"CrimeRate\"},\"y\":{\"field\":\"HousePrice\"}},\"id\":\"1234\",\"type\":\"Scatter\"},{\"attributes\":{\"end\":76.15857142857142,\"reset_end\":76.15857142857142,\"reset_start\":3.741428571428571,\"start\":3.741428571428571,\"tags\":[[[\"CrimeRate\",\"CrimeRate\",null]]]},\"id\":\"1197\",\"type\":\"Range1d\"},{\"attributes\":{},\"id\":\"1231\",\"type\":\"Selection\"},{\"attributes\":{\"axis_label\":\"HousePrice\",\"bounds\":\"auto\",\"formatter\":{\"id\":\"1240\"},\"major_label_orientation\":\"horizontal\",\"ticker\":{\"id\":\"1214\"}},\"id\":\"1213\",\"type\":\"LinearAxis\"},{\"attributes\":{},\"id\":\"1205\",\"type\":\"LinearScale\"},{\"attributes\":{\"axis\":{\"id\":\"1213\"},\"dimension\":1,\"grid_line_color\":null,\"ticker\":null},\"id\":\"1216\",\"type\":\"Grid\"},{\"attributes\":{},\"id\":\"1214\",\"type\":\"BasicTicker\"},{\"attributes\":{\"callback\":null,\"renderers\":[{\"id\":\"1236\"}],\"tags\":[\"hv_created\"],\"tooltips\":[[\"CrimeRate\",\"@{CrimeRate}\"],[\"HousePrice\",\"@{HousePrice}\"]]},\"id\":\"1199\",\"type\":\"HoverTool\"},{\"attributes\":{\"active_drag\":\"auto\",\"active_inspect\":\"auto\",\"active_multi\":null,\"active_scroll\":\"auto\",\"active_tap\":\"auto\",\"tools\":[{\"id\":\"1199\"},{\"id\":\"1217\"},{\"id\":\"1218\"},{\"id\":\"1219\"},{\"id\":\"1220\"},{\"id\":\"1221\"}]},\"id\":\"1223\",\"type\":\"Toolbar\"},{\"attributes\":{},\"id\":\"1238\",\"type\":\"BasicTickFormatter\"},{\"attributes\":{},\"id\":\"1217\",\"type\":\"SaveTool\"},{\"attributes\":{\"fill_color\":{\"value\":\"#1f77b3\"},\"line_color\":{\"value\":\"#1f77b3\"},\"size\":{\"units\":\"screen\",\"value\":5.477225575051661},\"x\":{\"field\":\"CrimeRate\"},\"y\":{\"field\":\"HousePrice\"}},\"id\":\"1233\",\"type\":\"Scatter\"},{\"attributes\":{\"end\":519823.2,\"reset_end\":519823.2,\"reset_start\":-16711.200000000004,\"start\":-16711.200000000004,\"tags\":[[[\"HousePrice\",\"HousePrice\",null]]]},\"id\":\"1198\",\"type\":\"Range1d\"},{\"attributes\":{},\"id\":\"1207\",\"type\":\"LinearScale\"},{\"attributes\":{\"fill_alpha\":{\"value\":0.2},\"fill_color\":{\"value\":\"#1f77b3\"},\"line_alpha\":{\"value\":0.2},\"line_color\":{\"value\":\"#1f77b3\"},\"size\":{\"units\":\"screen\",\"value\":5.477225575051661},\"x\":{\"field\":\"CrimeRate\"},\"y\":{\"field\":\"HousePrice\"}},\"id\":\"1235\",\"type\":\"Scatter\"},{\"attributes\":{\"children\":[{\"id\":\"1196\"},{\"id\":\"1200\"},{\"id\":\"1250\"}],\"margin\":[0,0,0,0],\"name\":\"Row01831\",\"tags\":[\"embedded\"]},\"id\":\"1195\",\"type\":\"Row\"},{\"attributes\":{\"margin\":[5,5,5,5],\"name\":\"HSpacer01836\",\"sizing_mode\":\"stretch_width\"},\"id\":\"1250\",\"type\":\"Spacer\"},{\"attributes\":{\"align\":null,\"below\":[{\"id\":\"1209\"}],\"center\":[{\"id\":\"1212\"},{\"id\":\"1216\"}],\"left\":[{\"id\":\"1213\"}],\"margin\":null,\"min_border_bottom\":10,\"min_border_left\":10,\"min_border_right\":10,\"min_border_top\":10,\"plot_height\":300,\"plot_width\":700,\"renderers\":[{\"id\":\"1236\"}],\"sizing_mode\":\"fixed\",\"title\":{\"id\":\"1201\"},\"toolbar\":{\"id\":\"1223\"},\"x_range\":{\"id\":\"1197\"},\"x_scale\":{\"id\":\"1205\"},\"y_range\":{\"id\":\"1198\"},\"y_scale\":{\"id\":\"1207\"}},\"id\":\"1200\",\"subtype\":\"Figure\",\"type\":\"Plot\"},{\"attributes\":{\"axis_label\":\"CrimeRate\",\"bounds\":\"auto\",\"formatter\":{\"id\":\"1238\"},\"major_label_orientation\":\"horizontal\",\"ticker\":{\"id\":\"1210\"}},\"id\":\"1209\",\"type\":\"LinearAxis\"},{\"attributes\":{},\"id\":\"1210\",\"type\":\"BasicTicker\"},{\"attributes\":{},\"id\":\"1218\",\"type\":\"PanTool\"},{\"attributes\":{\"margin\":[5,5,5,5],\"name\":\"HSpacer01835\",\"sizing_mode\":\"stretch_width\"},\"id\":\"1196\",\"type\":\"Spacer\"},{\"attributes\":{\"axis\":{\"id\":\"1209\"},\"grid_line_color\":null,\"ticker\":null},\"id\":\"1212\",\"type\":\"Grid\"},{\"attributes\":{},\"id\":\"1219\",\"type\":\"WheelZoomTool\"},{\"attributes\":{\"bottom_units\":\"screen\",\"fill_alpha\":0.5,\"fill_color\":\"lightgrey\",\"left_units\":\"screen\",\"level\":\"overlay\",\"line_alpha\":1.0,\"line_color\":\"black\",\"line_dash\":[4,4],\"line_width\":2,\"render_mode\":\"css\",\"right_units\":\"screen\",\"top_units\":\"screen\"},\"id\":\"1222\",\"type\":\"BoxAnnotation\"},{\"attributes\":{\"data\":{\"CrimeRate\":{\"__ndarray__\":\"MzMzMzOzPUCamZmZmRk4QAAAAAAAgDNAMzMzMzOzSEDNzMzMzAxLQM3MzMzMTEhAzczMzMzMPkCamZmZmZklQDMzMzMzMzRAZmZmZmZmNEDNzMzMzEwxQGZmZmZmJklAmpmZmZkZQUCamZmZmdlAQJqZmZmZ2UZAzczMzMxMNkDNzMzMzAxIQGZmZmZmZjNAmpmZmZn5UUDNzMzMzIxGQM3MzMzMTD9AZmZmZmbmOEAzMzMzMzM7QDMzMzMzszFAAAAAAAAAPUBmZmZmZmY1QJqZmZmZmTxAzczMzMxMPUAAAAAAAIAxQAAAAAAAgDBAzczMzMzMMUDNzMzMzEwxQDMzMzMzMz9AAAAAAAAALUBmZmZmZmYvQJqZmZmZmTxAzczMzMzMNEDNzMzMzEw9QM3MzMzMTDNAAAAAAADAQ0AAAAAAAAAqQJqZmZmZGThAAAAAAAAAQ0DNzMzMzAxEQM3MzMzMDEJAmpmZmZmZOkCamZmZmRk5QDMzMzMzMy1AMzMzMzMzMkCamZmZmZkuQGZmZmZmZi5AZmZmZmZmMUAzMzMzM1NSQGZmZmZmZhxAAAAAAAAAKUBmZmZmZuZGQDMzMzMzc0ZAAAAAAABAUEAzMzMzM/NIQGZmZmZmZktAAAAAAADASkCamZmZmXlRQJqZmZmZmThAzczMzMxMTUCamZmZmZlKQGZmZmZmZjFAAAAAAAAAL0AAAAAAAAAtQJqZmZmZGThAMzMzMzMzNUCamZmZmZkjQGZmZmZm5j1AzczMzMzMHEBmZmZmZmYzQM3MzMzMjERAZmZmZmZmJkAzMzMzMzM1QGZmZmZmZkVAzczMzMzMIkCamZmZmdlOQGZmZmZmZjNAZmZmZmZmGkDNzMzMzMwvQM3MzMzMzDJAZmZmZmZmKkAAAAAAAEBBQJqZmZmZGTZAmpmZmZkZNkCamZmZmflRQGZmZmZm5j9AzczMzMxMRkCamZmZmZk8QAAAAAAAADhAmpmZmZmZK0BmZmZmZuY9QM3MzMzMzCNAmpmZmZmZNkAAAAAAAAAqQA==\",\"dtype\":\"float64\",\"shape\":[98]},\"HousePrice\":[140463,113033,124186,110490,79124,92634,89246,195145,297342,264298,134342,147600,77370,170822,40642,71359,104923,190317,215512,178105,131025,149844,170556,280969,114233,74502,475112,97167,114572,436348,389302,122392,130436,272790,194435,299621,210884,112471,93738,121024,156035,185404,126160,143072,96769,94014,118214,157446,150283,153842,197214,206127,71981,169401,99843,60000,28000,60000,61800,38000,38000,42000,103087,147720,78175,92215,271804,119566,100231,95831,229711,74308,259506,159573,147176,205732,215783,116710,359112,189959,133198,242821,142811,200498,199065,93648,163001,436348,124478,168276,114157,130088,152624,174232,196515,232714,245920,130953]},\"selected\":{\"id\":\"1231\"},\"selection_policy\":{\"id\":\"1249\"}},\"id\":\"1230\",\"type\":\"ColumnDataSource\"},{\"attributes\":{},\"id\":\"1240\",\"type\":\"BasicTickFormatter\"}],\"root_ids\":[\"1195\"]},\"title\":\"Bokeh Application\",\"version\":\"2.0.2\"}};\n",
       "  var render_items = [{\"docid\":\"961cb8f4-5ece-4431-a088-f5a670261766\",\"root_ids\":[\"1195\"],\"roots\":{\"1195\":\"0386a6e4-8bb8-4cd2-9d54-7d6da56ef6a7\"}}];\n",
       "  root.Bokeh.embed.embed_items_notebook(docs_json, render_items);\n",
       "  }\n",
       "if (root.Bokeh !== undefined) {\n",
       "    embed_document(root);\n",
       "  } else {\n",
       "    var attempts = 0;\n",
       "    var timer = setInterval(function(root) {\n",
       "      if (root.Bokeh !== undefined) {\n",
       "        clearInterval(timer);\n",
       "        embed_document(root);\n",
       "      } else if (document.readyState == \"complete\") {\n",
       "        attempts++;\n",
       "        if (attempts > 100) {\n",
       "          clearInterval(timer);\n",
       "          console.log(\"Bokeh: ERROR: Unable to run BokehJS code because BokehJS library is missing\");\n",
       "        }\n",
       "      }\n",
       "    }, 10, root)\n",
       "  }\n",
       "})(window);</script>"
      ],
      "text/plain": [
       ":Scatter   [CrimeRate]   (HousePrice)"
      ]
     },
     "execution_count": 24,
     "metadata": {
      "application/vnd.holoviews_exec.v0+json": {
       "id": "1195"
      }
     },
     "output_type": "execute_result"
    }
   ],
   "source": [
    "newdata.hvplot(x = 'CrimeRate' , y = 'HousePrice' , kind = 'scatter')"
   ]
  },
  {
   "cell_type": "markdown",
   "metadata": {},
   "source": [
    "### Refit our simple regression model on this modified dataset:\n"
   ]
  },
  {
   "cell_type": "code",
   "execution_count": 25,
   "metadata": {},
   "outputs": [],
   "source": [
    "newreg = LinearRegression()"
   ]
  },
  {
   "cell_type": "code",
   "execution_count": 27,
   "metadata": {},
   "outputs": [],
   "source": [
    "x = newdata[['CrimeRate']]\n",
    "y = newdata['HousePrice']"
   ]
  },
  {
   "cell_type": "code",
   "execution_count": 28,
   "metadata": {},
   "outputs": [
    {
     "data": {
      "text/plain": [
       "LinearRegression(copy_X=True, fit_intercept=True, n_jobs=None, normalize=False)"
      ]
     },
     "execution_count": 28,
     "metadata": {},
     "output_type": "execute_result"
    }
   ],
   "source": [
    "newreg.fit(x,y)"
   ]
  },
  {
   "cell_type": "markdown",
   "metadata": {},
   "source": [
    "### Looking at the new fit:"
   ]
  },
  {
   "cell_type": "code",
   "execution_count": 29,
   "metadata": {},
   "outputs": [
    {
     "data": {
      "text/plain": [
       "[<matplotlib.lines.Line2D at 0x1221ab590>]"
      ]
     },
     "execution_count": 29,
     "metadata": {},
     "output_type": "execute_result"
    },
    {
     "data": {
      "image/png": "[encoded data removed]",
      "text/plain": [
       "<Figure size 432x288 with 1 Axes>"
      ]
     },
     "metadata": {
      "needs_background": "light"
     },
     "output_type": "display_data"
    }
   ],
   "source": [
    "plt.scatter(x,y,color='green')\n",
    "plt.plot(x,newreg.predict(x) , color = 'k')"
   ]
  },
  {
   "cell_type": "markdown",
   "metadata": {},
   "source": [
    "# Compare coefficients for full-data fit versus no-Center-City fit"
   ]
  },
  {
   "cell_type": "markdown",
   "metadata": {},
   "source": [
    "Visually, the fit seems different, but let's quantify this by examining the estimated coefficients of our original fit and that of the modified dataset with Center City removed."
   ]
  },
  {
   "cell_type": "code",
   "execution_count": 30,
   "metadata": {},
   "outputs": [
    {
     "name": "stdout",
     "output_type": "stream",
     "text": [
      "[-576.90812768]\n",
      "176629.40810695427\n"
     ]
    }
   ],
   "source": [
    "print(reg.coef_)\n",
    "print(reg.intercept_)"
   ]
  },
  {
   "cell_type": "code",
   "execution_count": 31,
   "metadata": {},
   "outputs": [
    {
     "name": "stdout",
     "output_type": "stream",
     "text": [
      "[-2288.68942995]\n",
      "225233.5518390038\n"
     ]
    }
   ],
   "source": [
    "print(newreg.coef_)\n",
    "print(newreg.intercept_)"
   ]
  },
  {
   "cell_type": "markdown",
   "metadata": {},
   "source": [
    "Above: We see that for the \"no Center City\" version, per unit increase in crime, the predicted decrease in house prices is 2,287.  In contrast, for the original dataset, the drop is only 576 per unit increase in crime.  This is significantly different!"
   ]
  },
  {
   "cell_type": "markdown",
   "metadata": {},
   "source": [
    "### High leverage points: \n",
    "Center City is said to be a \"high leverage\" point because it is at an extreme x value where there are not other observations.  As a result, recalling the closed-form solution for simple regression, this point has the *potential* to dramatically change the least squares line since the center of x mass is heavily influenced by this one point and the least squares line will try to fit close to that outlying (in x) point.  If a high leverage point follows the trend of the other data, this might not have much effect.  On the other hand, if this point somehow differs, it can be strongly influential in the resulting fit.\n",
    "\n",
    "### Influential observations:  \n",
    "An influential observation is one where the removal of the point significantly changes the fit.  As discussed above, high leverage points are good candidates for being influential observations, but need not be.  Other observations that are *not* leverage points can also be influential observations (e.g., strongly outlying in y even if x is a typical value)."
   ]
  },
  {
   "cell_type": "markdown",
   "metadata": {},
   "source": [
    "## Plotting the two models\n",
    "Confirm the above calculations by looking at the plots. The orange line is the model trained removing Center City, and the green line is the model trained on all the data. Notice how much steeper the green line is, since the drop in value is much higher according to this model."
   ]
  },
  {
   "cell_type": "code",
   "execution_count": 33,
   "metadata": {},
   "outputs": [
    {
     "data": {
      "text/plain": [
       "[<matplotlib.lines.Line2D at 0x12228a8d0>,\n",
       " <matplotlib.lines.Line2D at 0x12228ab50>,\n",
       " <matplotlib.lines.Line2D at 0x12228ad10>]"
      ]
     },
     "execution_count": 33,
     "metadata": {},
     "output_type": "execute_result"
    },
    {
     "data": {
      "image/png": "[encoded data removed]",
      "text/plain": [
       "<Figure size 432x288 with 1 Axes>"
      ]
     },
     "metadata": {
      "needs_background": "light"
     },
     "output_type": "display_data"
    }
   ],
   "source": [
    "plt.plot(newdata['CrimeRate'], newdata['HousePrice'], '.',\n",
    "         newdata['CrimeRate'], reg.predict(x), '-',\n",
    "         newdata['CrimeRate'], newreg.predict(x), '-')"
   ]
  }
 ],
 "metadata": {
  "kernelspec": {
   "display_name": "coursera",
   "language": "python",
   "name": "coursera"
  },
  "language_info": {
   "codemirror_mode": {
    "name": "ipython",
    "version": 3
   },
   "file_extension": ".py",
   "mimetype": "text/x-python",
   "name": "python",
   "nbconvert_exporter": "python",
   "pygments_lexer": "ipython3",
   "version": "3.7.7"
  }
 },
 "nbformat": 4,
 "nbformat_minor": 4
}
